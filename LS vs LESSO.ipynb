{
 "cells": [
  {
   "cell_type": "markdown",
   "id": "1cbf9121-b9bc-48cf-bff6-8881b839688b",
   "metadata": {
    "tags": []
   },
   "source": [
    "\n",
    "#Question 4:Using 2 data sets from our econometrics course, write Python code that compares:\n",
    "\n",
    "LS and WLS\n",
    "LS and LASSO\n",
    "LS and LOESS\n",
    "Pick 1 of these 3 pairs. Compute a test statistic that would show that 1 model does better than the other.\n",
    "\n",
    "For example, if you picked LS and WLS, you would compute a statistic for each model, and show that one of those test statistics is better than the other."
   ]
  },
  {
   "cell_type": "markdown",
   "id": "3b6f135c-77df-4f64-9184-f295c916b5a7",
   "metadata": {},
   "source": [
    "Answer:\n",
    "I would like to pick Least Squares (LS) and LASSO regression and compare their performance using Mean Squared Error (MSE) as the test statistic. MSE measures the average squared difference between predicted and actual values — a lower MSE reflects better model accuracy.\n",
    "\n",
    "For this comparison, we’ll use the California Housing dataset, a widely used alternative in econometrics"
   ]
  },
  {
   "cell_type": "code",
   "execution_count": 3,
   "id": "f3b62c02-fd6b-4dc3-a187-ba883dd97c7b",
   "metadata": {
    "tags": []
   },
   "outputs": [],
   "source": [
    "# Step 1: Import necessary libraries\n",
    "from sklearn.datasets import fetch_california_housing\n",
    "from sklearn.linear_model import LinearRegression, LassoCV\n",
    "from sklearn.model_selection import train_test_split\n",
    "from sklearn.metrics import mean_squared_error\n",
    "import pandas as pd"
   ]
  },
  {
   "cell_type": "code",
   "execution_count": 4,
   "id": "a39aca19-a8e3-48a9-9712-24c9187fd41a",
   "metadata": {
    "tags": []
   },
   "outputs": [],
   "source": [
    "# Step 2: Load the California Housing dataset\n",
    "housing = fetch_california_housing()\n",
    "X = pd.DataFrame(housing.data, columns=housing.feature_names)\n",
    "y = housing.target\n"
   ]
  },
  {
   "cell_type": "code",
   "execution_count": 5,
   "id": "17e2dcc1-7db3-4e40-9ca4-0e28dd32277b",
   "metadata": {
    "tags": []
   },
   "outputs": [],
   "source": [
    "# Step 3: Train-test split\n",
    "X_train, X_test, y_train, y_test = train_test_split(X, y, test_size=0.2, random_state=42)"
   ]
  },
  {
   "cell_type": "code",
   "execution_count": 6,
   "id": "a3a5de02-b442-46eb-bb8f-6c9072d3273f",
   "metadata": {
    "tags": []
   },
   "outputs": [],
   "source": [
    "# Step 4: Fit a Least Squares (Linear Regression) model\n",
    "lr_model = LinearRegression()\n",
    "lr_model.fit(X_train, y_train)\n",
    "y_pred_lr = lr_model.predict(X_test)\n",
    "mse_lr = mean_squared_error(y_test, y_pred_lr)"
   ]
  },
  {
   "cell_type": "code",
   "execution_count": 7,
   "id": "4832bdf9-e42e-4b71-9c74-5f4b47e1b431",
   "metadata": {
    "tags": []
   },
   "outputs": [],
   "source": [
    "# Step 5: Fit a LASSO Regression model with cross-validation to tune alpha\n",
    "lasso_model = LassoCV(cv=5, random_state=42)\n",
    "lasso_model.fit(X_train, y_train)\n",
    "y_pred_lasso = lasso_model.predict(X_test)\n",
    "mse_lasso = mean_squared_error(y_test, y_pred_lasso)"
   ]
  },
  {
   "cell_type": "code",
   "execution_count": 8,
   "id": "fd85a0d5-b42b-43d1-a5eb-866d1d4a74e5",
   "metadata": {
    "tags": []
   },
   "outputs": [
    {
     "name": "stdout",
     "output_type": "stream",
     "text": [
      "Linear Regression MSE: 0.5559\n",
      "LASSO Regression MSE: 0.5556\n",
      "Best alpha for LASSO: 0.0342\n"
     ]
    }
   ],
   "source": [
    "# Step 6: Print the MSE for both models\n",
    "print(f\"Linear Regression MSE: {mse_lr:.4f}\")\n",
    "print(f\"LASSO Regression MSE: {mse_lasso:.4f}\")\n",
    "print(f\"Best alpha for LASSO: {lasso_model.alpha_:.4f}\")"
   ]
  },
  {
   "cell_type": "code",
   "execution_count": 9,
   "id": "e5a90757-ce26-4fd1-ba23-35522c89846d",
   "metadata": {
    "tags": []
   },
   "outputs": [
    {
     "name": "stdout",
     "output_type": "stream",
     "text": [
      "Number of features used by LASSO: 7 out of 8\n"
     ]
    }
   ],
   "source": [
    "# Step 7: Optional — Compare number of non-zero features used by LASSO\n",
    "print(f\"Number of features used by LASSO: {sum(lasso_model.coef_ != 0)} out of {X.shape[1]}\")"
   ]
  },
  {
   "cell_type": "code",
   "execution_count": 10,
   "id": "24768b40-3fcb-4bc5-98ca-06ddd2533986",
   "metadata": {
    "tags": []
   },
   "outputs": [
    {
     "name": "stdout",
     "output_type": "stream",
     "text": [
      "Improvement in MSE by using LASSO: 0.0003\n"
     ]
    }
   ],
   "source": [
    "improvement = mse_lr - mse_lasso\n",
    "print(f\"Improvement in MSE by using LASSO: {improvement:.4f}\")\n"
   ]
  },
  {
   "cell_type": "code",
   "execution_count": null,
   "id": "828d1fdc-4659-432e-a122-c472580c55bd",
   "metadata": {},
   "outputs": [],
   "source": []
  }
 ],
 "metadata": {
  "kernelspec": {
   "display_name": "Python 3 (ipykernel)",
   "language": "python",
   "name": "python3"
  },
  "language_info": {
   "codemirror_mode": {
    "name": "ipython",
    "version": 3
   },
   "file_extension": ".py",
   "mimetype": "text/x-python",
   "name": "python",
   "nbconvert_exporter": "python",
   "pygments_lexer": "ipython3",
   "version": "3.11.4"
  }
 },
 "nbformat": 4,
 "nbformat_minor": 5
}
